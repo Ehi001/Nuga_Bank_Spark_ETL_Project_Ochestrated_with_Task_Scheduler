{
 "cells": [
  {
   "cell_type": "code",
   "execution_count": 3,
   "metadata": {},
   "outputs": [],
   "source": [
    "# Import Necessary Libraries\n",
    "\n",
    "from pyspark.sql import SparkSession\n",
    "from pyspark.sql import DataFrameWriter\n",
    "from pyspark.sql.functions import monotonically_increasing_id\n",
    "import os\n",
    "import psycopg2"
   ]
  },
  {
   "cell_type": "code",
   "execution_count": 4,
   "metadata": {},
   "outputs": [],
   "source": [
    "# set java home \n",
    "os.environ['JAVA_HOME'] = 'C:\\java8'\n"
   ]
  },
  {
   "cell_type": "code",
   "execution_count": 6,
   "metadata": {},
   "outputs": [],
   "source": [
    "# Initialize my spark session\n",
    "spark = SparkSession.builder \\\n",
    "        .appName(\"Nuga Bank ETL\") \\\n",
    "        .config(\"spark.jars\", \"postgresql-42.7.5.jar\") \\\n",
    "        .getOrCreate()\n"
   ]
  },
  {
   "cell_type": "code",
   "execution_count": 7,
   "metadata": {},
   "outputs": [
    {
     "data": {
      "text/html": [
       "\n",
       "            <div>\n",
       "                <p><b>SparkSession - in-memory</b></p>\n",
       "                \n",
       "        <div>\n",
       "            <p><b>SparkContext</b></p>\n",
       "\n",
       "            <p><a href=\"http://10.0.0.228:4040\">Spark UI</a></p>\n",
       "\n",
       "            <dl>\n",
       "              <dt>Version</dt>\n",
       "                <dd><code>v3.4.4</code></dd>\n",
       "              <dt>Master</dt>\n",
       "                <dd><code>local[*]</code></dd>\n",
       "              <dt>AppName</dt>\n",
       "                <dd><code>Nuga Bank ETL</code></dd>\n",
       "            </dl>\n",
       "        </div>\n",
       "        \n",
       "            </div>\n",
       "        "
      ],
      "text/plain": [
       "<pyspark.sql.session.SparkSession at 0x16b18923b50>"
      ]
     },
     "execution_count": 7,
     "metadata": {},
     "output_type": "execute_result"
    }
   ],
   "source": [
    "spark"
   ]
  },
  {
   "cell_type": "code",
   "execution_count": 11,
   "metadata": {},
   "outputs": [],
   "source": [
    "# Extract the historical data into a spark dataframe\n",
    "\n",
    "df = spark.read.csv(r'dataset\\rawdata\\nuga_bank_transactions.csv', header = True, inferSchema = True)"
   ]
  },
  {
   "cell_type": "code",
   "execution_count": 13,
   "metadata": {},
   "outputs": [
    {
     "name": "stdout",
     "output_type": "stream",
     "text": [
      "+--------------------+------+----------------+--------------+--------------------+------------------+--------------+--------------------+--------------------+--------------------+--------------------+-------------------+------------------+--------------------+-------------+-------------+--------+-----+---------+--------------------+--------------------+------+--------------+\n",
      "|    Transaction_Date|Amount|Transaction_Type| Customer_Name|    Customer_Address|     Customer_City|Customer_State|    Customer_Country|             Company|           Job_Title|               Email|       Phone_Number|Credit_Card_Number|                IBAN|Currency_Code|Random_Number|Category|Group|Is_Active|        Last_Updated|         Description|Gender|Marital_Status|\n",
      "+--------------------+------+----------------+--------------+--------------------+------------------+--------------+--------------------+--------------------+--------------------+--------------------+-------------------+------------------+--------------------+-------------+-------------+--------+-----+---------+--------------------+--------------------+------+--------------+\n",
      "|2024-03-23 15:38:...| 34.76|      Withdrawal|    James Neal|54912 Holmes Lodg...| West Keithborough|       Florida|                Togo|Benson, Johnson a...|                null|                null|  493.720.6609x7545|  3592901394693441|GB98RBPP090285271...|          MAD|       3167.0|       C|    Z|       No|2020-06-20 03:04:...|Yeah food anythin...| Other|      Divorced|\n",
      "|2024-04-22 19:15:...|163.92|      Withdrawal|   Thomas Long| 1133 Collin Passage|        Joshuabury|   Connecticut|Lao People's Demo...|                null|   Food technologist|michellelynch@exa...|      (497)554-3317|              null|GB03KFZR339662263...|          VEF|       2122.0|       B|    Z|     null|2020-12-27 13:23:...|Teach edge make n...|Female|       Married|\n",
      "|2024-04-12 19:46:...|386.32|      Withdrawal|Ashley Shelton|5297 Johnson Port...|       North Maria|    New Jersey|              Bhutan|       Jones-Mueller|Database administ...| ljordan@example.org|      (534)769-3072|      675983949974|GB59QYRN446730519...|          COP|       7796.0|       C|    Z|       No|2020-01-24 01:23:...|Again line face c...| Other|          null|\n",
      "|2024-04-17 15:29:...|407.15|         Deposit| James Rosario|56955 Moore Glens...|North Michellefurt|    New Mexico|             Iceland|       Vargas-Harris|Horticultural the...|parkerjames@examp...|+1-447-900-1320x257|     4761202519057|GB74FTDO268299438...|          BWP|       6284.0|       C|    Z|      Yes|2023-09-27 03:01:...|     Bag my a drive.|  null|          null|\n",
      "|2024-02-10 01:51:...|161.31|         Deposit|Miguel Leonard|262 Beck Expressw...|              null| West Virginia|             Eritrea|Richardson, Gonza...|   Minerals surveyor| zweaver@example.net|               null|   213156729655186|GB94EWRN587847592...|          SOS|       9179.0|       C|    Y|       No|2022-01-22 19:08:...|Husband find ok w...|Female|       Married|\n",
      "+--------------------+------+----------------+--------------+--------------------+------------------+--------------+--------------------+--------------------+--------------------+--------------------+-------------------+------------------+--------------------+-------------+-------------+--------+-----+---------+--------------------+--------------------+------+--------------+\n",
      "only showing top 5 rows\n",
      "\n"
     ]
    }
   ],
   "source": [
    "df.show(5)"
   ]
  },
  {
   "cell_type": "code",
   "execution_count": 15,
   "metadata": {},
   "outputs": [
    {
     "name": "stdout",
     "output_type": "stream",
     "text": [
      "root\n",
      " |-- Transaction_Date: timestamp (nullable = true)\n",
      " |-- Amount: double (nullable = true)\n",
      " |-- Transaction_Type: string (nullable = true)\n",
      " |-- Customer_Name: string (nullable = true)\n",
      " |-- Customer_Address: string (nullable = true)\n",
      " |-- Customer_City: string (nullable = true)\n",
      " |-- Customer_State: string (nullable = true)\n",
      " |-- Customer_Country: string (nullable = true)\n",
      " |-- Company: string (nullable = true)\n",
      " |-- Job_Title: string (nullable = true)\n",
      " |-- Email: string (nullable = true)\n",
      " |-- Phone_Number: string (nullable = true)\n",
      " |-- Credit_Card_Number: long (nullable = true)\n",
      " |-- IBAN: string (nullable = true)\n",
      " |-- Currency_Code: string (nullable = true)\n",
      " |-- Random_Number: double (nullable = true)\n",
      " |-- Category: string (nullable = true)\n",
      " |-- Group: string (nullable = true)\n",
      " |-- Is_Active: string (nullable = true)\n",
      " |-- Last_Updated: timestamp (nullable = true)\n",
      " |-- Description: string (nullable = true)\n",
      " |-- Gender: string (nullable = true)\n",
      " |-- Marital_Status: string (nullable = true)\n",
      "\n"
     ]
    }
   ],
   "source": [
    "df.printSchema()"
   ]
  },
  {
   "cell_type": "code",
   "execution_count": 17,
   "metadata": {},
   "outputs": [
    {
     "name": "stdout",
     "output_type": "stream",
     "text": [
      "Transaction_Date Nulls:  0\n",
      "Amount Nulls:  0\n",
      "Transaction_Type Nulls:  0\n",
      "Customer_Name Nulls:  100425\n",
      "Customer_Address Nulls:  100087\n",
      "Customer_City Nulls:  100034\n",
      "Customer_State Nulls:  100009\n",
      "Customer_Country Nulls:  100672\n",
      "Company Nulls:  100295\n",
      "Job_Title Nulls:  99924\n",
      "Email Nulls:  100043\n",
      "Phone_Number Nulls:  100524\n",
      "Credit_Card_Number Nulls:  100085\n",
      "IBAN Nulls:  100300\n",
      "Currency_Code Nulls:  99342\n",
      "Random_Number Nulls:  99913\n",
      "Category Nulls:  100332\n",
      "Group Nulls:  100209\n",
      "Is_Active Nulls:  100259\n",
      "Last_Updated Nulls:  100321\n",
      "Description Nulls:  100403\n",
      "Gender Nulls:  99767\n",
      "Marital_Status Nulls:  99904\n"
     ]
    }
   ],
   "source": [
    "# Data cleaning and transformation\n",
    "\n",
    "for column in df.columns:\n",
    "    print(column, 'Nulls: ', df.filter(df[column].isNull()).count() )"
   ]
  },
  {
   "cell_type": "code",
   "execution_count": 18,
   "metadata": {},
   "outputs": [
    {
     "name": "stdout",
     "output_type": "stream",
     "text": [
      "+-------+------------------+----------------+-------------+--------------------+-------------+--------------+----------------+-------------+------------------+-------------------+-------------------+--------------------+--------------------+-------------+-----------------+--------+------+---------+--------------------+------+--------------+\n",
      "|summary|            Amount|Transaction_Type|Customer_Name|    Customer_Address|Customer_City|Customer_State|Customer_Country|      Company|         Job_Title|              Email|       Phone_Number|  Credit_Card_Number|                IBAN|Currency_Code|    Random_Number|Category| Group|Is_Active|         Description|Gender|Marital_Status|\n",
      "+-------+------------------+----------------+-------------+--------------------+-------------+--------------+----------------+-------------+------------------+-------------------+-------------------+--------------------+--------------------+-------------+-----------------+--------+------+---------+--------------------+------+--------------+\n",
      "|  count|           1000000|         1000000|       899575|              899913|       899966|        899991|          899328|       899705|            900076|             899957|             899476|              899915|              899700|       900658|           900087|  899668|899791|   899741|              899597|900233|        900096|\n",
      "|   mean| 504.9737112200014|            null|         null|                null|         null|          null|            null|         null|              null|               null| 6.00341888622502E9|3.785330130644796...|                null|         null|5504.445295843624|    null|  null|     null|                null|  null|          null|\n",
      "| stddev|285.79972024412297|            null|         null|                null|         null|          null|            null|         null|              null|               null|2.307111981222393E9|1.247765855631419...|                null|         null|2598.168084374125|    null|  null|     null|                null|  null|          null|\n",
      "|    min|              10.0|         Deposit| Aaron Abbott|000 Aaron Landing...|    Aaronberg|       Alabama|     Afghanistan| Abbott Group|Academic librarian|aabbott@example.com|      (200)201-4254|         60400015693|GB02AAAU191993009...|          AED|           1000.0|       A|     X|       No|A American and to...|Female|      Divorced|\n",
      "|    max|            1000.0|      Withdrawal|    Zoe Young|    99999 Mark Vista|  Zunigaville|       Wyoming|        Zimbabwe|Zuniga-Wilson|      Youth worker|zzuniga@example.org|         9999777682| 4999984361512569455|GB98ZZXM257326775...|          ZWD|           9999.0|       D|     Z|      Yes|Yourself young ev...| Other|        Single|\n",
      "+-------+------------------+----------------+-------------+--------------------+-------------+--------------+----------------+-------------+------------------+-------------------+-------------------+--------------------+--------------------+-------------+-----------------+--------+------+---------+--------------------+------+--------------+\n",
      "\n"
     ]
    }
   ],
   "source": [
    "df.describe().show()"
   ]
  },
  {
   "cell_type": "code",
   "execution_count": 19,
   "metadata": {},
   "outputs": [],
   "source": [
    "# fill Up the missing values\n",
    "\n",
    "df_clean = df.fillna({\n",
    "    'Customer_Name' : 'Unknown',\n",
    "    'Customer_Address': 'Unknown',\n",
    "     'Customer_City' : 'Unknown', \n",
    "     'Customer_State' : 'Unknown',\n",
    "     'Customer_Country' : 'Unknown',\n",
    "     'Company' : 'Unknown',\n",
    "     'Job_Title' : 'Unknown',\n",
    "     'Email' : 'Unknown', \n",
    "     'Phone_Number' : 'Unknown',\n",
    "     'Credit_Card_Number' : 0,\n",
    "     'IBAN' : 'Unknown',\n",
    "     'Currency_Code' : 'Unknown',\n",
    "     'Random_Number' : 0.0,\n",
    "     'Category' : 'Unknown',\n",
    "     'Group' : 'Unknown',\n",
    "     'Is_Active' : 'Unknown',\n",
    "     'Last_Updated' : 'Unknown',\n",
    "     'Description' : 'Unknown',\n",
    "     'Gender' : 'Unknown',\n",
    "     'Marital_Status' : 'Unknown'\n",
    "})"
   ]
  },
  {
   "cell_type": "code",
   "execution_count": 20,
   "metadata": {},
   "outputs": [],
   "source": [
    "# Drop the missing values in Last_Updated column\n",
    "\n",
    "df_clean = df_clean.na.drop(subset = ['Last_Updated'])"
   ]
  },
  {
   "cell_type": "code",
   "execution_count": 22,
   "metadata": {},
   "outputs": [
    {
     "name": "stdout",
     "output_type": "stream",
     "text": [
      "Transaction_Date Nulls:  0\n",
      "Amount Nulls:  0\n",
      "Transaction_Type Nulls:  0\n",
      "Customer_Name Nulls:  0\n",
      "Customer_Address Nulls:  0\n",
      "Customer_City Nulls:  0\n",
      "Customer_State Nulls:  0\n",
      "Customer_Country Nulls:  0\n",
      "Company Nulls:  0\n",
      "Job_Title Nulls:  0\n",
      "Email Nulls:  0\n",
      "Phone_Number Nulls:  0\n",
      "Credit_Card_Number Nulls:  0\n",
      "IBAN Nulls:  0\n",
      "Currency_Code Nulls:  0\n",
      "Random_Number Nulls:  0\n",
      "Category Nulls:  0\n",
      "Group Nulls:  0\n",
      "Is_Active Nulls:  0\n",
      "Last_Updated Nulls:  0\n",
      "Description Nulls:  0\n",
      "Gender Nulls:  0\n",
      "Marital_Status Nulls:  0\n"
     ]
    }
   ],
   "source": [
    "# checking for nulls after cleaning\n",
    "\n",
    "for column in df_clean.columns:\n",
    "    print(column, 'Nulls: ', df_clean.filter(df_clean[column].isNull()).count() )"
   ]
  },
  {
   "cell_type": "code",
   "execution_count": 23,
   "metadata": {},
   "outputs": [
    {
     "data": {
      "text/plain": [
       "['Transaction_Date',\n",
       " 'Amount',\n",
       " 'Transaction_Type',\n",
       " 'Customer_Name',\n",
       " 'Customer_Address',\n",
       " 'Customer_City',\n",
       " 'Customer_State',\n",
       " 'Customer_Country',\n",
       " 'Company',\n",
       " 'Job_Title',\n",
       " 'Email',\n",
       " 'Phone_Number',\n",
       " 'Credit_Card_Number',\n",
       " 'IBAN',\n",
       " 'Currency_Code',\n",
       " 'Random_Number',\n",
       " 'Category',\n",
       " 'Group',\n",
       " 'Is_Active',\n",
       " 'Last_Updated',\n",
       " 'Description',\n",
       " 'Gender',\n",
       " 'Marital_Status']"
      ]
     },
     "execution_count": 23,
     "metadata": {},
     "output_type": "execute_result"
    }
   ],
   "source": [
    "df.columns"
   ]
  },
  {
   "cell_type": "code",
   "execution_count": null,
   "metadata": {},
   "outputs": [],
   "source": [
    "# Data Transformation to 2NF\n",
    "# Transaction Table\n",
    "\n",
    "transaction = df_clean.select() \\\n",
    "                        .withColumn('Transaction_ID', monotonically_increasing_id()) \\\n",
    "                        .select('Transaction_ID', 'Transaction_Date', 'Amount', 'Transaction_Type', 'Credit_Card_Number', 'IBAN', 'Currency_Code''Transaction_Date', 'Amount', 'Transaction_Type', 'Credit_Card_Number', 'IBAN', 'Currency_Code')"
   ]
  },
  {
   "cell_type": "code",
   "execution_count": 71,
   "metadata": {},
   "outputs": [
    {
     "name": "stdout",
     "output_type": "stream",
     "text": [
      "+--------------+--------------------+------+----------------+------------------+--------------------+-------------+\n",
      "|Transaction_ID|    Transaction_Date|Amount|Transaction_Type|Credit_Card_Number|                IBAN|Currency_Code|\n",
      "+--------------+--------------------+------+----------------+------------------+--------------------+-------------+\n",
      "|             0|2024-03-23 15:38:...| 34.76|      Withdrawal|  3592901394693441|GB98RBPP090285271...|          MAD|\n",
      "|             1|2024-04-22 19:15:...|163.92|      Withdrawal|                 0|GB03KFZR339662263...|          VEF|\n",
      "|             2|2024-04-12 19:46:...|386.32|      Withdrawal|      675983949974|GB59QYRN446730519...|          COP|\n",
      "|             3|2024-04-17 15:29:...|407.15|         Deposit|     4761202519057|GB74FTDO268299438...|          BWP|\n",
      "|             4|2024-02-10 01:51:...|161.31|         Deposit|   213156729655186|GB94EWRN587847592...|          SOS|\n",
      "+--------------+--------------------+------+----------------+------------------+--------------------+-------------+\n",
      "only showing top 5 rows\n",
      "\n"
     ]
    }
   ],
   "source": [
    "transaction.show(5)"
   ]
  },
  {
   "cell_type": "code",
   "execution_count": 41,
   "metadata": {},
   "outputs": [],
   "source": [
    "#Customer Table\n",
    "\n",
    "customer = df_clean.select('Customer_Name', 'Customer_Address', 'Customer_City', 'Customer_State', 'Customer_Country', 'Company', 'Job_Title', 'Email', 'Gender', 'Phone_Number') \\\n",
    "                            .withColumn('Customer_ID', monotonically_increasing_id()) \\\n",
    "                            .select('Customer_ID', 'Customer_Name', 'Customer_Address', 'Customer_City', 'Customer_State', 'Customer_Country', 'Company', 'Job_Title', 'Email', 'Gender', 'Phone_Number')"
   ]
  },
  {
   "cell_type": "code",
   "execution_count": 42,
   "metadata": {},
   "outputs": [
    {
     "name": "stdout",
     "output_type": "stream",
     "text": [
      "+-----------+--------------+--------------------+------------------+--------------+--------------------+--------------------+--------------------+--------------------+-------+-------------------+\n",
      "|Customer_ID| Customer_Name|    Customer_Address|     Customer_City|Customer_State|    Customer_Country|             Company|           Job_Title|               Email| Gender|       Phone_Number|\n",
      "+-----------+--------------+--------------------+------------------+--------------+--------------------+--------------------+--------------------+--------------------+-------+-------------------+\n",
      "|          0|    James Neal|54912 Holmes Lodg...| West Keithborough|       Florida|                Togo|Benson, Johnson a...|             Unknown|             Unknown|  Other|  493.720.6609x7545|\n",
      "|          1|   Thomas Long| 1133 Collin Passage|        Joshuabury|   Connecticut|Lao People's Demo...|             Unknown|   Food technologist|michellelynch@exa...| Female|      (497)554-3317|\n",
      "|          2|Ashley Shelton|5297 Johnson Port...|       North Maria|    New Jersey|              Bhutan|       Jones-Mueller|Database administ...| ljordan@example.org|  Other|      (534)769-3072|\n",
      "|          3| James Rosario|56955 Moore Glens...|North Michellefurt|    New Mexico|             Iceland|       Vargas-Harris|Horticultural the...|parkerjames@examp...|Unknown|+1-447-900-1320x257|\n",
      "|          4|Miguel Leonard|262 Beck Expressw...|           Unknown| West Virginia|             Eritrea|Richardson, Gonza...|   Minerals surveyor| zweaver@example.net| Female|            Unknown|\n",
      "+-----------+--------------+--------------------+------------------+--------------+--------------------+--------------------+--------------------+--------------------+-------+-------------------+\n",
      "only showing top 5 rows\n",
      "\n"
     ]
    }
   ],
   "source": [
    "customer.show(5)"
   ]
  },
  {
   "cell_type": "code",
   "execution_count": 43,
   "metadata": {},
   "outputs": [],
   "source": [
    "# fact table\n",
    "\n",
    "fact_table = df_clean.join(transaction, ['Transaction_Date', 'Amount', 'Transaction_Type', 'Credit_Card_Number', 'IBAN', 'Currency_Code'], 'inner') \\\n",
    "                    .join(customer, ['Customer_Name', 'Customer_Address', 'Customer_City', 'Customer_State', 'Customer_Country', 'Company', 'Job_Title', 'Email', 'Phone_Number'], 'inner') \\\n",
    "                    .select('Transaction_ID', 'Customer_ID', 'Currency_Code', 'Random_Number', 'Category', 'Group', 'Last_Updated', 'Description')"
   ]
  },
  {
   "cell_type": "code",
   "execution_count": 30,
   "metadata": {},
   "outputs": [
    {
     "name": "stdout",
     "output_type": "stream",
     "text": [
      "+--------------+-----------+-------------+-------------+--------+-----+--------------------+--------------------+\n",
      "|Transaction_ID|Customer_ID|Currency_Code|Random_Number|Category|Group|        Last_Updated|         Description|\n",
      "+--------------+-----------+-------------+-------------+--------+-----+--------------------+--------------------+\n",
      "|   42949716102|42949716102|          CHF|       4820.0|       A|    Y|2020-07-02 02:26:...|             Unknown|\n",
      "|   77309448187|77309448187|          GIP|          0.0|       C|    Z|2021-05-07 01:57:...|They boy approach...|\n",
      "|   68719547757|68719547757|          GNF|       2411.0|       B|    Y|2022-09-11 14:32:...|Before personal d...|\n",
      "|   25769855930|25769855930|          CVE|       6611.0|       A|    Y|2023-10-31 02:21:...|             Unknown|\n",
      "|   34359814090|34359814090|      Unknown|       7029.0|       B|    Z|2022-04-07 12:11:...|She morning price...|\n",
      "+--------------+-----------+-------------+-------------+--------+-----+--------------------+--------------------+\n",
      "only showing top 5 rows\n",
      "\n"
     ]
    }
   ],
   "source": [
    "fact_table.show(5)"
   ]
  },
  {
   "cell_type": "code",
   "execution_count": null,
   "metadata": {},
   "outputs": [],
   "source": [
    "# Data loading\n",
    "\n",
    "# Create a function to create tables\n",
    "def create_table():\n",
    "    conn = psycopg2.connect(\n",
    "        host = 'localhost',\n",
    "        database = 'Nuga_Bank',\n",
    "        user = 'postgres',\n",
    "        password = 'Grateful@1'\n",
    "    )\n",
    "    cursor = conn.cursor()\n",
    "    \n",
    "    # Drop tables if they exist\n",
    "    cursor.execute(\"DROP TABLE IF EXISTS customer CASCADE;\")\n",
    "    cursor.execute(\"DROP TABLE IF EXISTS transaction CASCADE;\")\n",
    "    cursor.execute(\"DROP TABLE IF EXISTS fact_table CASCADE;\")\n",
    "                           \n",
    "    # Commit changes before recreating table\n",
    "    conn.commit()                       \n",
    "                           \n",
    "    # Create Customer Table                       \n",
    "    create_customer_table = '''    \n",
    "                            CREATE TABLE customer (\n",
    "                                Customer_ID BIGINT,\n",
    "                                Customer_Name VARCHAR (10000),\n",
    "                                Customer_Address VARCHAR (10000), \n",
    "                                Customer_City VARCHAR (10000),\n",
    "                                Customer_State VARCHAR (10000),\n",
    "                                Customer_Country VARCHAR (10000),\n",
    "                                Company VARCHAR (10000),\n",
    "                                Job_Title VARCHAR (10000),\n",
    "                                Email VARCHAR (1000),\n",
    "                                Gender VARCHAR (100),\n",
    "                                Phone_Number VARCHAR (100)\n",
    "                            );\n",
    "                        '''\n",
    "    cursor.execute(create_customer_table)\n",
    "\n",
    "    \n",
    "    # Create Transaction Table                        \n",
    "    create_transaction_table = '''\n",
    "                                CREATE TABLE \"transaction\" (\n",
    "                                Transaction_ID BIGINT,\n",
    "                                Transaction_Date DATE,\n",
    "                                Amount FLOAT,\n",
    "                                Transaction_Type VARCHAR (10000),\n",
    "                                Credit_Card_Number BIGINT,\n",
    "                                IBAN VARCHAR (10000),\n",
    "                                Currency_Code VARCHAR (100)\n",
    "                            );\n",
    "                        '''\n",
    "    cursor.execute(create_transaction_table)\n",
    "\n",
    "    #Create Fact_Table \n",
    "    create_fact_table = '''\n",
    "                            CREATE TABLE fact_table (\n",
    "                            Transaction_ID BIGINT,\n",
    "                            Customer_ID BIGINT,\n",
    "                            Currency_Code VARCHAR (100),\n",
    "                            Random_Number FLOAT,\n",
    "                            Category VARCHAR (1000),\n",
    "                            \"Group\" VARCHAR (1000),\n",
    "                            Last_Updated VARCHAR (10000),\n",
    "                            Description VARCHAR (10000)\n",
    "                        );\n",
    "                    '''\n",
    "    cursor.execute(create_fact_table)\n",
    "\n",
    "    conn.commit()\n",
    "    cursor.close()\n",
    "    conn.close()\n",
    "    "
   ]
  },
  {
   "cell_type": "code",
   "execution_count": 68,
   "metadata": {},
   "outputs": [],
   "source": [
    "create_table()"
   ]
  },
  {
   "cell_type": "code",
   "execution_count": 69,
   "metadata": {},
   "outputs": [],
   "source": [
    "url = \"jdbc:postgresql://localhost:5432/Nuga_Bank\"\n",
    "properties = {\n",
    "    \"user\" : \"postgres\",\n",
    "    \"password\" : \"Grateful@1\",\n",
    "    \"driver\": \"org.postgresql.Driver\"\n",
    "}\n",
    "\n",
    "customer.write.jdbc(url = url, table = \"customer\", mode = \"append\", properties = properties)"
   ]
  },
  {
   "cell_type": "code",
   "execution_count": 73,
   "metadata": {},
   "outputs": [],
   "source": [
    "transaction.write.jdbc(url = url, table = \"transaction\", mode = \"append\", properties = properties)\n",
    "fact_table.write.jdbc(url = url, table = \"fact_table\", mode = \"append\", properties = properties)"
   ]
  },
  {
   "cell_type": "code",
   "execution_count": null,
   "metadata": {},
   "outputs": [],
   "source": []
  }
 ],
 "metadata": {
  "kernelspec": {
   "display_name": "Python 3",
   "language": "python",
   "name": "python3"
  },
  "language_info": {
   "codemirror_mode": {
    "name": "ipython",
    "version": 3
   },
   "file_extension": ".py",
   "mimetype": "text/x-python",
   "name": "python",
   "nbconvert_exporter": "python",
   "pygments_lexer": "ipython3",
   "version": "3.11.9"
  }
 },
 "nbformat": 4,
 "nbformat_minor": 2
}
